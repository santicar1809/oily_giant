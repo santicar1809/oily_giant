{
 "cells": [
  {
   "cell_type": "markdown",
   "metadata": {},
   "source": [
    "# Descripción del proyecto\n",
    "\n",
    "Trabajas en la compañía de extracción de petróleo OilyGiant. Tu tarea es encontrar los mejores lugares donde abrir 200 pozos nuevos de petróleo.\n",
    "\n",
    "Para completar esta tarea, tendrás que realizar los siguientes pasos:\n",
    "\n",
    "- Leer los archivos con los parámetros recogidos de pozos petrolíferos en la región seleccionada: calidad de crudo y volumen de reservas.\n",
    "- Crear un modelo para predecir el volumen de reservas en pozos nuevos.\n",
    "- Elegir los pozos petrolíferos que tienen los valores estimados más altos.\n",
    "- Elegir la región con el beneficio total más alto para los pozos petrolíferos seleccionados.\n",
    "\n",
    "Tienes datos sobre muestras de crudo de tres regiones. Ya se conocen los parámetros de cada pozo petrolero de la región. Crea un modelo que ayude a elegir la región con el mayor margen de beneficio. Analiza los beneficios y riesgos potenciales utilizando la técnica bootstrapping.\n",
    "\n",
    "## Condiciones:\n",
    "\n",
    "- Solo se debe usar la regresión lineal para el entrenamiento del modelo.\n",
    "- Al explorar la región, se lleva a cabo un estudio de 500 puntos con la selección de los mejores 200 puntos para el cálculo del beneficio.\n",
    "- El presupuesto para el desarrollo de 200 pozos petroleros es de 100 millones de dólares.\n",
    "- Un barril de materias primas genera 4.5 USD de ingresos. El ingreso de una unidad de producto es de 4500 dólares (el volumen de reservas está expresado en miles de barriles).\n",
    "- Después de la evaluación de riesgo, mantén solo las regiones con riesgo de pérdidas inferior al 2.5%. De las que se ajustan a los criterios, se debe seleccionar la región con el beneficio promedio más alto.\n",
    "\n",
    "Los datos son sintéticos: los detalles del contrato y las características del pozo no se publican.\n",
    "\n",
    "## Descripción de datos\n",
    "\n",
    "Los datos de exploración geológica de las tres regiones se almacenan en archivos:\n",
    "\n",
    "- geo_data_0.csv. \n",
    "- geo_data_1.csv. \n",
    "- geo_data_2.csv. \n",
    "- id — identificador único de pozo de petróleo\n",
    "- f0, f1, f2 — tres características de los puntos (su significado específico no es importante, pero las características en sí son significativas)\n",
    "- product — volumen de reservas en el pozo de petróleo (miles de barriles).\n",
    "\n",
    "## Instrucciones del proyecto\n",
    "\n",
    "1. Descarga y prepara los datos. Explica el procedimiento.\n",
    "2. Entrena y prueba el modelo para cada región en geo_data_0.csv:\n",
    "\n",
    "    1. Divide los datos en un conjunto de entrenamiento y un conjunto de validación en una proporción de 75:25\n",
    "\n",
    "    2. Entrena el modelo y haz predicciones para el conjunto de validación.\n",
    "\n",
    "    3. Guarda las predicciones y las respuestas correctas para el conjunto de validación.\n",
    "\n",
    "    4. Muestra el volumen medio de reservas predicho y RMSE del modelo.\n",
    "\n",
    "    5. Analiza los resultados.\n",
    "\n",
    "    6. Coloca todos los pasos previos en funciones, realiza y ejecuta los pasos 2.1-2.5 para los archivos 'geo_data_1.csv' y 'geo_data_2.csv'.\n",
    "\n",
    "3. Prepárate para el cálculo de ganancias:\n",
    "\n",
    "    1. Almacena todos los valores necesarios para los cálculos en variables separadas.\n",
    "\n",
    "    2. Dada la inversión de 100 millones por 200 pozos petrolíferos, de media un pozo petrolífero debe producir al menos un valor de 500,000 dólares en unidades para evitar pérdidas (esto es equivalente a 111.1 unidades). Compara esta cantidad con la cantidad media de reservas en cada región.\n",
    "\n",
    "    3. Presenta conclusiones sobre cómo preparar el paso para calcular el beneficio.\n",
    "\n",
    "4. Escribe una función para calcular la ganancia de un conjunto de pozos de petróleo seleccionados y modela las predicciones:\n",
    "\n",
    "    1. Elige los 200 pozos con los valores de predicción más altos de cada una de las 3 regiones (es decir, archivos 'csv').\n",
    "\n",
    "    2. Resume el volumen objetivo de reservas según dichas predicciones. Almacena las predicciones para los 200 pozos para cada una de las 3 regiones.\n",
    "\n",
    "    3. Calcula la ganancia potencial de los 200 pozos principales por región. Presenta tus conclusiones: propón una región para el desarrollo de pozos petrolíferos y justifica tu elección.\n",
    "\n",
    "5. Calcula riesgos y ganancias para cada región:\n",
    "\n",
    "    1. Utilizando las predicciones que almacenaste en el paso 4.2, emplea la técnica del bootstrapping con 1000 muestras para hallar la distribución de los beneficios.\n",
    "\n",
    "    2. Encuentra el beneficio promedio, el intervalo de confianza del 95% y el riesgo de pérdidas. La pérdida es una ganancia negativa, calcúlala como una probabilidad y luego exprésala como un porcentaje.\n",
    "\n",
    "    3. Presenta tus conclusiones: propón una región para el desarrollo de pozos petrolíferos y justifica tu elección. ¿Coincide tu elección con la elección anterior en el punto 4.3?"
   ]
  },
  {
   "cell_type": "markdown",
   "metadata": {},
   "source": [
    "# Librerías"
   ]
  },
  {
   "cell_type": "code",
   "execution_count": 60,
   "metadata": {},
   "outputs": [],
   "source": [
    "import pandas as pd\n",
    "import numpy as np\n",
    "import matplotlib.pyplot as plt\n",
    "from sklearn.model_selection import train_test_split\n",
    "from sklearn.linear_model import LinearRegression\n",
    "from sklearn import metrics\n",
    "from pprint import pprint\n",
    "from scipy.stats import randint\n",
    "from sklearn.model_selection import RandomizedSearchCV\n",
    "from sklearn.impute import KNNImputer\n",
    "from sklearn.utils import shuffle\n",
    "import re\n",
    "from sklearn.metrics import mean_squared_error\n",
    "from sklearn.metrics import r2_score\n",
    "from sklearn.metrics import mean_absolute_error\n",
    "import joblib"
   ]
  },
  {
   "cell_type": "markdown",
   "metadata": {},
   "source": [
    "# Carga de datos"
   ]
  },
  {
   "cell_type": "code",
   "execution_count": 61,
   "metadata": {},
   "outputs": [],
   "source": [
    "data_1 = pd.read_csv('datasets/geo_data_0.csv')\n",
    "data_2 = pd.read_csv('datasets/geo_data_1.csv')\n",
    "data_3 = pd.read_csv('datasets/geo_data_2.csv')"
   ]
  },
  {
   "cell_type": "code",
   "execution_count": 62,
   "metadata": {},
   "outputs": [
    {
     "data": {
      "text/html": [
       "<div>\n",
       "<style scoped>\n",
       "    .dataframe tbody tr th:only-of-type {\n",
       "        vertical-align: middle;\n",
       "    }\n",
       "\n",
       "    .dataframe tbody tr th {\n",
       "        vertical-align: top;\n",
       "    }\n",
       "\n",
       "    .dataframe thead th {\n",
       "        text-align: right;\n",
       "    }\n",
       "</style>\n",
       "<table border=\"1\" class=\"dataframe\">\n",
       "  <thead>\n",
       "    <tr style=\"text-align: right;\">\n",
       "      <th></th>\n",
       "      <th>id</th>\n",
       "      <th>f0</th>\n",
       "      <th>f1</th>\n",
       "      <th>f2</th>\n",
       "      <th>product</th>\n",
       "    </tr>\n",
       "  </thead>\n",
       "  <tbody>\n",
       "    <tr>\n",
       "      <th>0</th>\n",
       "      <td>txEyH</td>\n",
       "      <td>0.705745</td>\n",
       "      <td>-0.497823</td>\n",
       "      <td>1.221170</td>\n",
       "      <td>105.280062</td>\n",
       "    </tr>\n",
       "    <tr>\n",
       "      <th>1</th>\n",
       "      <td>2acmU</td>\n",
       "      <td>1.334711</td>\n",
       "      <td>-0.340164</td>\n",
       "      <td>4.365080</td>\n",
       "      <td>73.037750</td>\n",
       "    </tr>\n",
       "    <tr>\n",
       "      <th>2</th>\n",
       "      <td>409Wp</td>\n",
       "      <td>1.022732</td>\n",
       "      <td>0.151990</td>\n",
       "      <td>1.419926</td>\n",
       "      <td>85.265647</td>\n",
       "    </tr>\n",
       "    <tr>\n",
       "      <th>3</th>\n",
       "      <td>iJLyR</td>\n",
       "      <td>-0.032172</td>\n",
       "      <td>0.139033</td>\n",
       "      <td>2.978566</td>\n",
       "      <td>168.620776</td>\n",
       "    </tr>\n",
       "    <tr>\n",
       "      <th>4</th>\n",
       "      <td>Xdl7t</td>\n",
       "      <td>1.988431</td>\n",
       "      <td>0.155413</td>\n",
       "      <td>4.751769</td>\n",
       "      <td>154.036647</td>\n",
       "    </tr>\n",
       "  </tbody>\n",
       "</table>\n",
       "</div>"
      ],
      "text/plain": [
       "      id        f0        f1        f2     product\n",
       "0  txEyH  0.705745 -0.497823  1.221170  105.280062\n",
       "1  2acmU  1.334711 -0.340164  4.365080   73.037750\n",
       "2  409Wp  1.022732  0.151990  1.419926   85.265647\n",
       "3  iJLyR -0.032172  0.139033  2.978566  168.620776\n",
       "4  Xdl7t  1.988431  0.155413  4.751769  154.036647"
      ]
     },
     "execution_count": 62,
     "metadata": {},
     "output_type": "execute_result"
    }
   ],
   "source": [
    "data_1.head()"
   ]
  },
  {
   "cell_type": "code",
   "execution_count": 63,
   "metadata": {},
   "outputs": [
    {
     "data": {
      "text/html": [
       "<div>\n",
       "<style scoped>\n",
       "    .dataframe tbody tr th:only-of-type {\n",
       "        vertical-align: middle;\n",
       "    }\n",
       "\n",
       "    .dataframe tbody tr th {\n",
       "        vertical-align: top;\n",
       "    }\n",
       "\n",
       "    .dataframe thead th {\n",
       "        text-align: right;\n",
       "    }\n",
       "</style>\n",
       "<table border=\"1\" class=\"dataframe\">\n",
       "  <thead>\n",
       "    <tr style=\"text-align: right;\">\n",
       "      <th></th>\n",
       "      <th>id</th>\n",
       "      <th>f0</th>\n",
       "      <th>f1</th>\n",
       "      <th>f2</th>\n",
       "      <th>product</th>\n",
       "    </tr>\n",
       "  </thead>\n",
       "  <tbody>\n",
       "    <tr>\n",
       "      <th>0</th>\n",
       "      <td>kBEdx</td>\n",
       "      <td>-15.001348</td>\n",
       "      <td>-8.276000</td>\n",
       "      <td>-0.005876</td>\n",
       "      <td>3.179103</td>\n",
       "    </tr>\n",
       "    <tr>\n",
       "      <th>1</th>\n",
       "      <td>62mP7</td>\n",
       "      <td>14.272088</td>\n",
       "      <td>-3.475083</td>\n",
       "      <td>0.999183</td>\n",
       "      <td>26.953261</td>\n",
       "    </tr>\n",
       "    <tr>\n",
       "      <th>2</th>\n",
       "      <td>vyE1P</td>\n",
       "      <td>6.263187</td>\n",
       "      <td>-5.948386</td>\n",
       "      <td>5.001160</td>\n",
       "      <td>134.766305</td>\n",
       "    </tr>\n",
       "    <tr>\n",
       "      <th>3</th>\n",
       "      <td>KcrkZ</td>\n",
       "      <td>-13.081196</td>\n",
       "      <td>-11.506057</td>\n",
       "      <td>4.999415</td>\n",
       "      <td>137.945408</td>\n",
       "    </tr>\n",
       "    <tr>\n",
       "      <th>4</th>\n",
       "      <td>AHL4O</td>\n",
       "      <td>12.702195</td>\n",
       "      <td>-8.147433</td>\n",
       "      <td>5.004363</td>\n",
       "      <td>134.766305</td>\n",
       "    </tr>\n",
       "  </tbody>\n",
       "</table>\n",
       "</div>"
      ],
      "text/plain": [
       "      id         f0         f1        f2     product\n",
       "0  kBEdx -15.001348  -8.276000 -0.005876    3.179103\n",
       "1  62mP7  14.272088  -3.475083  0.999183   26.953261\n",
       "2  vyE1P   6.263187  -5.948386  5.001160  134.766305\n",
       "3  KcrkZ -13.081196 -11.506057  4.999415  137.945408\n",
       "4  AHL4O  12.702195  -8.147433  5.004363  134.766305"
      ]
     },
     "execution_count": 63,
     "metadata": {},
     "output_type": "execute_result"
    }
   ],
   "source": [
    "data_2.head()"
   ]
  },
  {
   "cell_type": "code",
   "execution_count": 64,
   "metadata": {},
   "outputs": [
    {
     "data": {
      "text/html": [
       "<div>\n",
       "<style scoped>\n",
       "    .dataframe tbody tr th:only-of-type {\n",
       "        vertical-align: middle;\n",
       "    }\n",
       "\n",
       "    .dataframe tbody tr th {\n",
       "        vertical-align: top;\n",
       "    }\n",
       "\n",
       "    .dataframe thead th {\n",
       "        text-align: right;\n",
       "    }\n",
       "</style>\n",
       "<table border=\"1\" class=\"dataframe\">\n",
       "  <thead>\n",
       "    <tr style=\"text-align: right;\">\n",
       "      <th></th>\n",
       "      <th>id</th>\n",
       "      <th>f0</th>\n",
       "      <th>f1</th>\n",
       "      <th>f2</th>\n",
       "      <th>product</th>\n",
       "    </tr>\n",
       "  </thead>\n",
       "  <tbody>\n",
       "    <tr>\n",
       "      <th>0</th>\n",
       "      <td>fwXo0</td>\n",
       "      <td>-1.146987</td>\n",
       "      <td>0.963328</td>\n",
       "      <td>-0.828965</td>\n",
       "      <td>27.758673</td>\n",
       "    </tr>\n",
       "    <tr>\n",
       "      <th>1</th>\n",
       "      <td>WJtFt</td>\n",
       "      <td>0.262778</td>\n",
       "      <td>0.269839</td>\n",
       "      <td>-2.530187</td>\n",
       "      <td>56.069697</td>\n",
       "    </tr>\n",
       "    <tr>\n",
       "      <th>2</th>\n",
       "      <td>ovLUW</td>\n",
       "      <td>0.194587</td>\n",
       "      <td>0.289035</td>\n",
       "      <td>-5.586433</td>\n",
       "      <td>62.871910</td>\n",
       "    </tr>\n",
       "    <tr>\n",
       "      <th>3</th>\n",
       "      <td>q6cA6</td>\n",
       "      <td>2.236060</td>\n",
       "      <td>-0.553760</td>\n",
       "      <td>0.930038</td>\n",
       "      <td>114.572842</td>\n",
       "    </tr>\n",
       "    <tr>\n",
       "      <th>4</th>\n",
       "      <td>WPMUX</td>\n",
       "      <td>-0.515993</td>\n",
       "      <td>1.716266</td>\n",
       "      <td>5.899011</td>\n",
       "      <td>149.600746</td>\n",
       "    </tr>\n",
       "  </tbody>\n",
       "</table>\n",
       "</div>"
      ],
      "text/plain": [
       "      id        f0        f1        f2     product\n",
       "0  fwXo0 -1.146987  0.963328 -0.828965   27.758673\n",
       "1  WJtFt  0.262778  0.269839 -2.530187   56.069697\n",
       "2  ovLUW  0.194587  0.289035 -5.586433   62.871910\n",
       "3  q6cA6  2.236060 -0.553760  0.930038  114.572842\n",
       "4  WPMUX -0.515993  1.716266  5.899011  149.600746"
      ]
     },
     "execution_count": 64,
     "metadata": {},
     "output_type": "execute_result"
    }
   ],
   "source": [
    "data_3.head()"
   ]
  },
  {
   "cell_type": "code",
   "execution_count": 65,
   "metadata": {},
   "outputs": [
    {
     "name": "stdout",
     "output_type": "stream",
     "text": [
      "<class 'pandas.core.frame.DataFrame'>\n",
      "RangeIndex: 100000 entries, 0 to 99999\n",
      "Data columns (total 5 columns):\n",
      " #   Column   Non-Null Count   Dtype  \n",
      "---  ------   --------------   -----  \n",
      " 0   id       100000 non-null  object \n",
      " 1   f0       100000 non-null  float64\n",
      " 2   f1       100000 non-null  float64\n",
      " 3   f2       100000 non-null  float64\n",
      " 4   product  100000 non-null  float64\n",
      "dtypes: float64(4), object(1)\n",
      "memory usage: 3.8+ MB\n",
      "None\n",
      "\n",
      "<class 'pandas.core.frame.DataFrame'>\n",
      "RangeIndex: 100000 entries, 0 to 99999\n",
      "Data columns (total 5 columns):\n",
      " #   Column   Non-Null Count   Dtype  \n",
      "---  ------   --------------   -----  \n",
      " 0   id       100000 non-null  object \n",
      " 1   f0       100000 non-null  float64\n",
      " 2   f1       100000 non-null  float64\n",
      " 3   f2       100000 non-null  float64\n",
      " 4   product  100000 non-null  float64\n",
      "dtypes: float64(4), object(1)\n",
      "memory usage: 3.8+ MB\n",
      "None\n",
      "\n",
      "<class 'pandas.core.frame.DataFrame'>\n",
      "RangeIndex: 100000 entries, 0 to 99999\n",
      "Data columns (total 5 columns):\n",
      " #   Column   Non-Null Count   Dtype  \n",
      "---  ------   --------------   -----  \n",
      " 0   id       100000 non-null  object \n",
      " 1   f0       100000 non-null  float64\n",
      " 2   f1       100000 non-null  float64\n",
      " 3   f2       100000 non-null  float64\n",
      " 4   product  100000 non-null  float64\n",
      "dtypes: float64(4), object(1)\n",
      "memory usage: 3.8+ MB\n",
      "None\n",
      "\n"
     ]
    }
   ],
   "source": [
    "datasets=[data_1,data_2,data_3]\n",
    "for i in datasets:\n",
    "    print(i.info())\n",
    "    print()"
   ]
  },
  {
   "cell_type": "markdown",
   "metadata": {},
   "source": [
    "Podemos identificar que los datos son netamente numéricos a excepción del contrato que identifica el pozo de petróleo y que no tenemos datos ausentes. Los tipos de datos están bien, por lo que vamos a dejarlos tal como están."
   ]
  },
  {
   "cell_type": "markdown",
   "metadata": {},
   "source": [
    "# Describe"
   ]
  },
  {
   "cell_type": "code",
   "execution_count": 66,
   "metadata": {},
   "outputs": [
    {
     "name": "stdout",
     "output_type": "stream",
     "text": [
      "                  f0             f1             f2        product\n",
      "count  100000.000000  100000.000000  100000.000000  100000.000000\n",
      "mean        0.500419       0.250143       2.502647      92.500000\n",
      "std         0.871832       0.504433       3.248248      44.288691\n",
      "min        -1.408605      -0.848218     -12.088328       0.000000\n",
      "25%        -0.072580      -0.200881       0.287748      56.497507\n",
      "50%         0.502360       0.250252       2.515969      91.849972\n",
      "75%         1.073581       0.700646       4.715088     128.564089\n",
      "max         2.362331       1.343769      16.003790     185.364347\n",
      "\n",
      "                  f0             f1             f2        product\n",
      "count  100000.000000  100000.000000  100000.000000  100000.000000\n",
      "mean        1.141296      -4.796579       2.494541      68.825000\n",
      "std         8.965932       5.119872       1.703572      45.944423\n",
      "min       -31.609576     -26.358598      -0.018144       0.000000\n",
      "25%        -6.298551      -8.267985       1.000021      26.953261\n",
      "50%         1.153055      -4.813172       2.011479      57.085625\n",
      "75%         8.621015      -1.332816       3.999904     107.813044\n",
      "max        29.421755      18.734063       5.019721     137.945408\n",
      "\n",
      "                  f0             f1             f2        product\n",
      "count  100000.000000  100000.000000  100000.000000  100000.000000\n",
      "mean        0.002023      -0.002081       2.495128      95.000000\n",
      "std         1.732045       1.730417       3.473445      44.749921\n",
      "min        -8.760004      -7.084020     -11.970335       0.000000\n",
      "25%        -1.162288      -1.174820       0.130359      59.450441\n",
      "50%         0.009424      -0.009482       2.484236      94.925613\n",
      "75%         1.158535       1.163678       4.858794     130.595027\n",
      "max         7.238262       7.844801      16.739402     190.029838\n",
      "\n"
     ]
    }
   ],
   "source": [
    "datasets=[data_1,data_2,data_3]\n",
    "for i in datasets:\n",
    "    print(i.describe())\n",
    "    print()"
   ]
  },
  {
   "cell_type": "markdown",
   "metadata": {},
   "source": [
    "Las estadísticas descriptivas de las variables f0, f1, y f2 no nos dicen nada, sin embargo, podemos ver el volumen medio de reservas de petroleo de cada región, en la región 1 es de 92.5 miles de barriles, para la region 2 es 68.82 miles de barriles y para la region 3 es de 95 mil barriles."
   ]
  },
  {
   "cell_type": "markdown",
   "metadata": {},
   "source": [
    "# Limpieza de datos"
   ]
  },
  {
   "cell_type": "code",
   "execution_count": 67,
   "metadata": {},
   "outputs": [
    {
     "name": "stdout",
     "output_type": "stream",
     "text": [
      "Ausentes región 1:\n",
      "id         0\n",
      "f0         0\n",
      "f1         0\n",
      "f2         0\n",
      "product    0\n",
      "dtype: int64\n",
      "Ausentes región 2:\n",
      "id         0\n",
      "f0         0\n",
      "f1         0\n",
      "f2         0\n",
      "product    0\n",
      "dtype: int64\n",
      "Ausentes región 3:\n",
      "id         0\n",
      "f0         0\n",
      "f1         0\n",
      "f2         0\n",
      "product    0\n",
      "dtype: int64\n"
     ]
    }
   ],
   "source": [
    "#Calculamos los ausentes\n",
    "for i in range(0,3):\n",
    "    print(f'Ausentes región {i+1}:\\n{datasets[i].isna().sum()}')\n"
   ]
  },
  {
   "cell_type": "code",
   "execution_count": 68,
   "metadata": {},
   "outputs": [
    {
     "name": "stdout",
     "output_type": "stream",
     "text": [
      "Pozos con reservas negativas de la región 1: \n",
      " 0\n",
      "Pozos con reservas negativas de la región 2: \n",
      " 0\n",
      "Pozos con reservas negativas de la región 3: \n",
      " 0\n"
     ]
    }
   ],
   "source": [
    "#Calculamos los pozos con valores negativos\n",
    "for i in range(0,3):\n",
    "    print(f'Pozos con reservas negativas de la región {i+1}: \\n',datasets[i][datasets[i]['product']<0]['product'].count())\n"
   ]
  },
  {
   "cell_type": "markdown",
   "metadata": {},
   "source": [
    "No tenemos pozos con valores negativos, lo cual está bien."
   ]
  },
  {
   "cell_type": "code",
   "execution_count": 69,
   "metadata": {},
   "outputs": [
    {
     "name": "stdout",
     "output_type": "stream",
     "text": [
      "Pozos con 0 reservas de la región 1: \n",
      " 1\n",
      "Pozos con 0 reservas de la región 2: \n",
      " 8235\n",
      "Pozos con 0 reservas de la región 3: \n",
      " 1\n"
     ]
    }
   ],
   "source": [
    "#Calculamos los pozos con valores cero\n",
    "for i in range(0,3):\n",
    "    print(f'Pozos con 0 reservas de la región {i+1}: \\n',datasets[i][datasets[i]['product']==0]['product'].count())\n"
   ]
  },
  {
   "cell_type": "markdown",
   "metadata": {},
   "source": [
    "Podemos ver la cantidad de pozos que tienen 0 barriles de petroleo es de solo 1 en la región uno, 8235 en la región 2 y 1 en la región 3. Esto nos indica que los datos de la región 2 tienen más pozos sin reservas y podría significar una baja rentabilidad. Esto lo veremos posteriormente."
   ]
  },
  {
   "cell_type": "code",
   "execution_count": 70,
   "metadata": {},
   "outputs": [
    {
     "name": "stdout",
     "output_type": "stream",
     "text": [
      "Proporción de la región 1: \n",
      " 0.001\n",
      "Proporción de la región 2: \n",
      " 8.235\n",
      "Proporción de la región 3: \n",
      " 0.001\n"
     ]
    }
   ],
   "source": [
    "#Calculamos los pozos con valores negativos\n",
    "for i in range(0,3):\n",
    "    print(f'Proporción de la región {i+1}: \\n',100*datasets[i][datasets[i]['product']==0]['product'].count()/data_1.shape[0])\n"
   ]
  },
  {
   "cell_type": "markdown",
   "metadata": {},
   "source": [
    "El porcentaje medianamente significativo es el 8% de la región 2."
   ]
  },
  {
   "cell_type": "code",
   "execution_count": 71,
   "metadata": {},
   "outputs": [
    {
     "name": "stdout",
     "output_type": "stream",
     "text": [
      "Duplicados de la región 1: \n",
      " 0\n",
      "Duplicados de la región 2: \n",
      " 0\n",
      "Duplicados de la región 3: \n",
      " 0\n"
     ]
    }
   ],
   "source": [
    "for i in range(0,3):\n",
    "    print(f'Duplicados de la región {i+1}: \\n',datasets[i].duplicated().sum())"
   ]
  },
  {
   "cell_type": "markdown",
   "metadata": {},
   "source": [
    "No tenemos valores duplicados o pozos duplicados, por lo que podemos proseguir con nuestro algoritmo."
   ]
  },
  {
   "cell_type": "markdown",
   "metadata": {},
   "source": [
    "# Análisis"
   ]
  },
  {
   "cell_type": "code",
   "execution_count": 72,
   "metadata": {},
   "outputs": [
    {
     "data": {
      "image/png": "[encoded data removed]",
      "text/plain": [
       "<Figure size 640x480 with 1 Axes>"
      ]
     },
     "metadata": {},
     "output_type": "display_data"
    }
   ],
   "source": [
    "plt_1=data_1['product'].plot(kind='hist')"
   ]
  },
  {
   "cell_type": "code",
   "execution_count": 73,
   "metadata": {},
   "outputs": [
    {
     "data": {
      "image/png": "[encoded data removed]",
      "text/plain": [
       "<Figure size 640x480 with 1 Axes>"
      ]
     },
     "metadata": {},
     "output_type": "display_data"
    }
   ],
   "source": [
    "plt_2=data_2['product'].plot(kind='hist')"
   ]
  },
  {
   "cell_type": "code",
   "execution_count": 74,
   "metadata": {},
   "outputs": [
    {
     "data": {
      "image/png": "[encoded data removed]",
      "text/plain": [
       "<Figure size 640x480 with 1 Axes>"
      ]
     },
     "metadata": {},
     "output_type": "display_data"
    }
   ],
   "source": [
    "plt_3=data_3['product'].plot(kind='hist')"
   ]
  },
  {
   "cell_type": "markdown",
   "metadata": {},
   "source": [
    "Podemos ver el comportamiento de las variables de producto de cada región en los histogramas presentados, donde podemos ver que la región 1 y la región 3 tienen distribuciones normales que tienden a la media, por el contrario la región 2 es bimodal, teniendo 2 picos, los datos tienden a 0 y al maximo que tiende a 140, lo cual es un comportamiento extraño que puede generar inconsistencias en el momento de elegir la región más rentable."
   ]
  },
  {
   "cell_type": "markdown",
   "metadata": {},
   "source": [
    "# Entrenamiento de la región 1"
   ]
  },
  {
   "cell_type": "markdown",
   "metadata": {},
   "source": [
    "## División de los datos"
   ]
  },
  {
   "cell_type": "code",
   "execution_count": 75,
   "metadata": {},
   "outputs": [],
   "source": [
    "seed=12345\n",
    "features=data_1.drop(['id','product'],axis=1)\n",
    "target=data_1['product']\n",
    "features_train, features_valid,target_train,target_valid_1 = train_test_split(features,target,test_size=0.25,random_state=seed)"
   ]
  },
  {
   "cell_type": "markdown",
   "metadata": {},
   "source": [
    "## Entrenamiento del modelo"
   ]
  },
  {
   "cell_type": "code",
   "execution_count": 76,
   "metadata": {},
   "outputs": [
    {
     "name": "stdout",
     "output_type": "stream",
     "text": [
      "{'copy_X': [True, False],\n",
      " 'fit_intercept': [True, False],\n",
      " 'n_jobs': [200, 400, 600, 800, 1000, 1200, 1400, 1600, 1800, 2000],\n",
      " 'positive': [True, False]}\n"
     ]
    }
   ],
   "source": [
    "# Hacemos la grilla de parametros\n",
    "fit_intercept = [True, False]\n",
    "copy_X = [True, False]\n",
    "n_jobs= [int(x) for x in np.linspace(start = 200, stop = 2000, num = 10)]\n",
    "positive=[True, False]\n",
    "# Creación de la malla aleatoria\n",
    "random_grid = {'fit_intercept': fit_intercept,\n",
    "               'copy_X': copy_X,\n",
    "               'n_jobs': n_jobs,\n",
    "               'positive': positive}\n",
    "pprint(random_grid)"
   ]
  },
  {
   "cell_type": "code",
   "execution_count": 77,
   "metadata": {},
   "outputs": [
    {
     "name": "stdout",
     "output_type": "stream",
     "text": [
      "Fitting 3 folds for each of 80 candidates, totalling 240 fits\n"
     ]
    },
    {
     "name": "stderr",
     "output_type": "stream",
     "text": [
      "c:\\Users\\Santiago\\AppData\\Local\\Programs\\Python\\Python312\\Lib\\site-packages\\sklearn\\model_selection\\_search.py:318: UserWarning: The total space of parameters 80 is smaller than n_iter=100. Running 80 iterations. For exhaustive searches, use GridSearchCV.\n",
      "  warnings.warn(\n"
     ]
    },
    {
     "name": "stdout",
     "output_type": "stream",
     "text": [
      "{'positive': False, 'n_jobs': 200, 'fit_intercept': True, 'copy_X': True}\n"
     ]
    }
   ],
   "source": [
    "#Aplicamos el modelo de regresión lineal\n",
    "model = LinearRegression()\n",
    "#Aplicamos RandomizedSearchCV para idenfiricar el mejor conjunto de hiperparametros\n",
    "model_random=RandomizedSearchCV(estimator = model, param_distributions = random_grid,n_iter = 100,cv = 3, verbose = 2,random_state = seed, n_jobs = -1 )\n",
    "model_random.fit(features_train,target_train)\n",
    "print(model_random.best_params_)\n"
   ]
  },
  {
   "cell_type": "code",
   "execution_count": 78,
   "metadata": {},
   "outputs": [
    {
     "name": "stdout",
     "output_type": "stream",
     "text": [
      "Volumen de reservas medio: 92.59256778438035\n",
      "Raiz del error cuadrado medio: 37.5794217150813\n",
      "R2: 0.27994321524487786\n",
      "EAM: 30.919600777151313\n"
     ]
    }
   ],
   "source": [
    "#Calculamos las métricas del modelo con RandomizedSearchCV\n",
    "best_predict=model_random.best_estimator_\n",
    "random_prediction=best_predict.predict(features_valid)\n",
    "ecm_random=mean_squared_error(target_valid_1,random_prediction)\n",
    "recm_random=ecm_random**0.5\n",
    "r2_random=r2_score(target_valid_1,random_prediction)\n",
    "eam_random=mean_absolute_error(target_valid_1,random_prediction)\n",
    "print(f'Volumen de reservas medio: {random_prediction.mean()}\\nRaiz del error cuadrado medio: {recm_random}\\nR2: {r2_random}\\nEAM: {eam_random}')\n"
   ]
  },
  {
   "cell_type": "code",
   "execution_count": 79,
   "metadata": {},
   "outputs": [
    {
     "data": {
      "text/plain": [
       "['regression_random.joblib']"
      ]
     },
     "execution_count": 79,
     "metadata": {},
     "output_type": "execute_result"
    }
   ],
   "source": [
    "joblib.dump(model_random,'regression_random.joblib')"
   ]
  },
  {
   "cell_type": "code",
   "execution_count": 80,
   "metadata": {},
   "outputs": [
    {
     "name": "stdout",
     "output_type": "stream",
     "text": [
      "Volumen de reservas medio: 92.59256778438035\n",
      "Raiz del error cuadrado medio: 37.5794217150813\n",
      "R2: 0.27994321524487786\n",
      "EAM: 30.919600777151313\n"
     ]
    }
   ],
   "source": [
    "#Entrenamos el modelo sin RandomizedSearchCV y calculamos las métricas\n",
    "model.fit(features_train,target_train)\n",
    "pred_valid_1=model.predict(features_valid)\n",
    "pred_valid_1=pd.Series(pred_valid_1,index=target_valid_1.index)\n",
    "ecm=mean_squared_error(target_valid_1,pred_valid_1)\n",
    "recm=ecm**0.5\n",
    "r2=r2_score(target_valid_1,pred_valid_1)\n",
    "eam=mean_absolute_error(target_valid_1,pred_valid_1)\n",
    "print(f'Volumen de reservas medio: {pred_valid_1.mean()}\\nRaiz del error cuadrado medio: {recm}\\nR2: {r2}\\nEAM: {eam}')\n"
   ]
  },
  {
   "cell_type": "code",
   "execution_count": 81,
   "metadata": {},
   "outputs": [
    {
     "data": {
      "text/plain": [
       "['regression_1.joblib']"
      ]
     },
     "execution_count": 81,
     "metadata": {},
     "output_type": "execute_result"
    }
   ],
   "source": [
    "joblib.dump(model,'regression_1.joblib')"
   ]
  },
  {
   "cell_type": "markdown",
   "metadata": {},
   "source": [
    "Podemos evidenciar que no hay ninguna diferencia al usar RandomizedSearchCV en la regresión lineal por sus parametros."
   ]
  },
  {
   "cell_type": "code",
   "execution_count": 82,
   "metadata": {},
   "outputs": [
    {
     "name": "stdout",
     "output_type": "stream",
     "text": [
      "Raiz del error cuadrado medio: 44.28602687855358\n",
      "R2: 0.0\n",
      "EAM: 37.67130120321094\n"
     ]
    }
   ],
   "source": [
    "#Prueba de cordura\n",
    "mean_predictions=pd.Series(target_valid_1.mean(),index=target_valid_1.index)\n",
    "recm_mean=mean_squared_error(target_valid_1,mean_predictions)**0.5\n",
    "r2_mean=r2_score(target_valid_1,mean_predictions)\n",
    "eam_mean=mean_absolute_error(target_valid_1,mean_predictions)\n",
    "print(f'Raiz del error cuadrado medio: {recm_mean}\\nR2: {r2_mean}\\nEAM: {eam_mean}')"
   ]
  },
  {
   "cell_type": "markdown",
   "metadata": {},
   "source": [
    "Al analizar los resultados, podemos ver que el volumen medio de reservas es de 92.6 mil barriles con un RMSE de 37.57 mil barriles, lo cual es aceptable si lo comparamos con la media, que al predecir los valores obtiene un error mayor correspondiente a 44.28 galones. \n",
    "El R2 es de 0.28 lo cual no está mal, sin embargo, podría mejorar y por último el error absoluto medio que es de 30.9 mil barriles, mucho menor que el error de la media que es de 37.6 miles de barriles.  "
   ]
  },
  {
   "cell_type": "markdown",
   "metadata": {},
   "source": [
    "## Pasamos todos los procedimientos a funciones"
   ]
  },
  {
   "cell_type": "code",
   "execution_count": 83,
   "metadata": {},
   "outputs": [],
   "source": [
    "#Dividir dataset\n",
    "def split_data(data):\n",
    "    seed=12345\n",
    "    features=data.drop(['id','product'],axis=1)\n",
    "    target=data['product']\n",
    "    features_train,features_valid,target_train,target_valid = train_test_split(features,target,test_size=0.25,random_state=seed)\n",
    "    return features_train,features_valid,target_train,target_valid\n",
    "    "
   ]
  },
  {
   "cell_type": "code",
   "execution_count": 84,
   "metadata": {},
   "outputs": [],
   "source": [
    "#Entrenamiento del modelo\n",
    "def training(features_train,features_valid,target_train,target_valid):\n",
    "    model.fit(features_train,target_train)\n",
    "    prediction_valid=model.predict(features_valid)\n",
    "    prediction_valid=pd.Series(prediction_valid,index=target_valid.index)\n",
    "    ecm=mean_squared_error(target_valid,prediction_valid)\n",
    "    recm=ecm**0.5\n",
    "    r2=r2_score(target_valid,prediction_valid)\n",
    "    eam=mean_absolute_error(target_valid,prediction_valid)\n",
    "    print(f'Volumen de reservas medio: {prediction_valid.mean()}\\nRaiz del error cuadrado medio: {recm}\\nR2: {r2}\\nEAM: {eam}')\n",
    "    return prediction_valid,model\n",
    "    \n",
    "    "
   ]
  },
  {
   "cell_type": "code",
   "execution_count": 85,
   "metadata": {},
   "outputs": [],
   "source": [
    "#Prueba de cordura\n",
    "def dummies_test(target_valid):\n",
    "    mean_predictions = pd.Series(target_valid.mean(),index=target_valid.index)\n",
    "    recm_mean=mean_squared_error(target_valid,mean_predictions)**0.5\n",
    "    r2_mean=r2_score(target_valid,mean_predictions)\n",
    "    eam_mean=mean_absolute_error(target_valid,mean_predictions)\n",
    "    print(f'Volumen de reservas medio: {target_valid.mean()}\\nRaiz del error cuadrado medio: {recm_mean}\\nR2: {r2_mean}\\nEAM: {eam_mean}')"
   ]
  },
  {
   "cell_type": "markdown",
   "metadata": {},
   "source": [
    "## Ejecutamos los pasos para la región 2"
   ]
  },
  {
   "cell_type": "code",
   "execution_count": 86,
   "metadata": {},
   "outputs": [
    {
     "name": "stdout",
     "output_type": "stream",
     "text": [
      "Volumen de reservas medio: 68.72854689544602\n",
      "Raiz del error cuadrado medio: 0.8930992867756165\n",
      "R2: 0.9996233978805127\n",
      "EAM: 0.7187662442124757\n"
     ]
    }
   ],
   "source": [
    "#Regresión lineal\n",
    "features_train_2,features_valid_2,target_train_2,target_valid_2 = split_data(data_2)\n",
    "pred_valid_2 = training(features_train_2,features_valid_2,target_train_2,target_valid_2)[0]"
   ]
  },
  {
   "cell_type": "code",
   "execution_count": 87,
   "metadata": {},
   "outputs": [
    {
     "data": {
      "text/plain": [
       "['regression_2.joblib']"
      ]
     },
     "execution_count": 87,
     "metadata": {},
     "output_type": "execute_result"
    }
   ],
   "source": [
    "joblib.dump(model,'regression_2.joblib')"
   ]
  },
  {
   "cell_type": "code",
   "execution_count": 88,
   "metadata": {},
   "outputs": [
    {
     "name": "stdout",
     "output_type": "stream",
     "text": [
      "Volumen de reservas medio: 68.72313602435997\n",
      "Raiz del error cuadrado medio: 46.0212449226281\n",
      "R2: 0.0\n",
      "EAM: 40.368820520491454\n"
     ]
    }
   ],
   "source": [
    "#Prueba de cordura\n",
    "dumm = dummies_test(target_valid_2)"
   ]
  },
  {
   "cell_type": "markdown",
   "metadata": {},
   "source": [
    "Podemos ver que el error cuadrado nos da 89, lo cual es mayor que la media. Adicionalmente vemos el R2 de 0.99 y un EAM de 0.71, lo que denota que nuestra regresión lineal para esta región tuvo resultados muy desfasados. "
   ]
  },
  {
   "cell_type": "markdown",
   "metadata": {},
   "source": [
    "## Ejecutamos los pasos para la región 3"
   ]
  },
  {
   "cell_type": "code",
   "execution_count": 89,
   "metadata": {},
   "outputs": [
    {
     "name": "stdout",
     "output_type": "stream",
     "text": [
      "Volumen de reservas medio: 94.96504596800489\n",
      "Raiz del error cuadrado medio: 40.02970873393434\n",
      "R2: 0.20524758386040443\n",
      "EAM: 32.792652105481814\n"
     ]
    }
   ],
   "source": [
    "#Regresión lineal\n",
    "features_train_3,features_valid_3,target_train_3,target_valid_3 = split_data(data_3)\n",
    "pred_valid_3 = training(features_train_3,features_valid_3,target_train_3,target_valid_3)[0]"
   ]
  },
  {
   "cell_type": "code",
   "execution_count": 90,
   "metadata": {},
   "outputs": [
    {
     "data": {
      "text/plain": [
       "['regression_3.joblib']"
      ]
     },
     "execution_count": 90,
     "metadata": {},
     "output_type": "execute_result"
    }
   ],
   "source": [
    "joblib.dump(model,'regression_3.joblib')"
   ]
  },
  {
   "cell_type": "code",
   "execution_count": 91,
   "metadata": {},
   "outputs": [
    {
     "name": "stdout",
     "output_type": "stream",
     "text": [
      "Volumen de reservas medio: 94.88423280885438\n",
      "Raiz del error cuadrado medio: 44.902084376898294\n",
      "R2: 0.0\n",
      "EAM: 37.92104858619802\n"
     ]
    }
   ],
   "source": [
    "#Prueba de cordura\n",
    "dumm = dummies_test(target_valid_3)"
   ]
  },
  {
   "cell_type": "markdown",
   "metadata": {},
   "source": [
    "Podemos ver un error de 40 mil barriles, un r2 de 0.20 y un EAM de 32.8, que denora que nuestra regresión lineal para la tercera región es aceptable."
   ]
  },
  {
   "cell_type": "markdown",
   "metadata": {},
   "source": [
    "# Cálculo de las ganancias"
   ]
  },
  {
   "cell_type": "code",
   "execution_count": 92,
   "metadata": {},
   "outputs": [
    {
     "name": "stdout",
     "output_type": "stream",
     "text": [
      "Media reservas región 1: 93.0 ; Ganancias de la región 1: -81500.0\n",
      "Media reservas región 2: 69.0 ; Ganancias de la región 2: -189500.0\n",
      "Media reservas región 3: 95.0 ; Ganancias de la región 3: -72500.0\n",
      "Unidades de reserva sin perdida por pozo: 111.11111111111111\n"
     ]
    }
   ],
   "source": [
    "#Recopilamos los valores importantes para calcular los ingresos\n",
    "budget=100000000\n",
    "wells=200\n",
    "income_per_barrel=4500\n",
    "mean_income_per_well=500000\n",
    "units_no_loose=mean_income_per_well/income_per_barrel\n",
    "mean_product_region1=pred_valid_1.mean().round()\n",
    "mean_product_region2=pred_valid_2.mean().round()\n",
    "mean_product_region3=pred_valid_3.mean().round()\n",
    "means=[mean_product_region1,mean_product_region2,mean_product_region3]\n",
    "for i in range(0,3):\n",
    "    print(f'Media reservas región {i+1}: {means[i]} ; Ganancias de la región {i+1}: {means[i]*income_per_barrel-mean_income_per_well}')\n",
    "print(f'Unidades de reserva sin perdida por pozo: {units_no_loose}')"
   ]
  },
  {
   "cell_type": "markdown",
   "metadata": {},
   "source": [
    "Tenemos la inversión, el número de pozos que se van a adquirir con la inversión, la cantidad minima que deben producir para no perder y las medias de cada una de las regiones. Al ver la media, podemos ver que no se alcanza el valor de unidades mínimo que se necesita para evitar perdidas, especialmente la región 2 que tiene la media más baja. Por esta razón tendremos que filtrar los pozos para obtener los que tienen más producción."
   ]
  },
  {
   "cell_type": "markdown",
   "metadata": {},
   "source": [
    "# Función del cálculo de las ganancias"
   ]
  },
  {
   "cell_type": "code",
   "execution_count": 93,
   "metadata": {},
   "outputs": [
    {
     "data": {
      "text/plain": [
       "93073    310813.208776\n",
       "46784    293134.959252\n",
       "78948    291327.804775\n",
       "43388    290462.930300\n",
       "6496     279848.587829\n",
       "             ...      \n",
       "30488    168281.787372\n",
       "98799    168167.950072\n",
       "53840    168144.241721\n",
       "4638     167965.426709\n",
       "75908    167646.734499\n",
       "Length: 200, dtype: float64"
      ]
     },
     "execution_count": 93,
     "metadata": {},
     "output_type": "execute_result"
    }
   ],
   "source": [
    "top=pred_valid_1.sort_values(ascending=False)*4500-500000\n",
    "top_200=top.head(200)\n",
    "top_200"
   ]
  },
  {
   "cell_type": "code",
   "execution_count": 94,
   "metadata": {},
   "outputs": [],
   "source": [
    "def incomes(pred,income_per_barrel,mean_income_per_well,budget,count):\n",
    "    sorted_wells=pred.sort_values(ascending=False)\n",
    "    top=sorted_wells.head(count)\n",
    "    mean_barrels=top.mean()\n",
    "    total_incomes=sum(top*income_per_barrel-mean_income_per_well)\n",
    "    print(f'Ganancias de la región: {total_incomes}\\nPromedio de miles de barriles de la región: {mean_barrels}\\nGanancias de la región: {total_incomes-mean_income_per_well}\\nRendimiento de la inversión: {100*(total_incomes-budget)/budget}')\n",
    "    print()\n",
    "    return total_incomes,mean_barrels,top"
   ]
  },
  {
   "cell_type": "code",
   "execution_count": 95,
   "metadata": {},
   "outputs": [
    {
     "name": "stdout",
     "output_type": "stream",
     "text": [
      "Ganancias de la región: 39960488.77465123\n",
      "Promedio de miles de barriles de la región: 155.51165419405692\n",
      "Ganancias de la región: 39460488.77465123\n",
      "Rendimiento de la inversión: -60.03951122534877\n",
      "\n"
     ]
    }
   ],
   "source": [
    "count=wells\n",
    "incomes_1=incomes(pred_valid_1,income_per_barrel,mean_income_per_well,budget,wells)"
   ]
  },
  {
   "cell_type": "code",
   "execution_count": 96,
   "metadata": {},
   "outputs": [
    {
     "name": "stdout",
     "output_type": "stream",
     "text": [
      "Ganancias de la región: 24857120.51973563\n",
      "Promedio de miles de barriles de la región: 138.73013391081736\n",
      "Ganancias de la región: 24357120.51973563\n",
      "Rendimiento de la inversión: -75.14287948026437\n",
      "\n"
     ]
    }
   ],
   "source": [
    "incomes_2=incomes(pred_valid_2,income_per_barrel,mean_income_per_well,budget,wells)"
   ]
  },
  {
   "cell_type": "code",
   "execution_count": 97,
   "metadata": {},
   "outputs": [
    {
     "name": "stdout",
     "output_type": "stream",
     "text": [
      "Ganancias de la región: 33217543.962432627\n",
      "Promedio de miles de barriles de la región: 148.0194932915918\n",
      "Ganancias de la región: 32717543.962432627\n",
      "Rendimiento de la inversión: -66.78245603756737\n",
      "\n"
     ]
    }
   ],
   "source": [
    "incomes_3=incomes(pred_valid_3,income_per_barrel,mean_income_per_well,budget,wells)"
   ]
  },
  {
   "cell_type": "markdown",
   "metadata": {},
   "source": [
    "Al realizar el cálculo de las ganancias de cada región de los 200 pozos con mayor cantidad de barriles obtenemos en las 3 regiones ingresos mayores que los esperados y promedio de reservas mayor al esperado, por lo cual se tendrían ganancias por encima del punto de equilibrio en cualquiera de las tres regiones.\n",
    "\n",
    "**Recomendación:** Al revisar las regiones, podemos observar que la que tiene mayores ganancias netas es la región 1 con 39 millones de dolares aproximandamente y promedio de 155.47 mil barriles, por lo cual se recuperaría la ganancia más rapido, con un ROI del -60%."
   ]
  },
  {
   "cell_type": "markdown",
   "metadata": {},
   "source": [
    "# Riesgos y ganancias"
   ]
  },
  {
   "cell_type": "markdown",
   "metadata": {},
   "source": [
    "## Bootstraping"
   ]
  },
  {
   "cell_type": "code",
   "execution_count": 98,
   "metadata": {},
   "outputs": [],
   "source": [
    "#Función para hacer bootstraping\n",
    "def bootstraping(predict,income_per_barrel,mean_income_per_well):\n",
    "    state=np.random.RandomState(12345)\n",
    "    mean_values=[]\n",
    "    values_income=[]\n",
    "    for i in range(1000):\n",
    "        pred_subsample=predict.sample(n=500,replace=True,random_state=state)\n",
    "        incomes=pred_subsample*income_per_barrel-mean_income_per_well\n",
    "        mean_boot=incomes.mean()\n",
    "        mean_values.append(mean_boot)\n",
    "        values_income.append(incomes.quantile(0.99))\n",
    "    return values_income"
   ]
  },
  {
   "cell_type": "code",
   "execution_count": 99,
   "metadata": {},
   "outputs": [],
   "source": [
    "values_1=bootstraping(incomes_1[2],income_per_barrel,mean_income_per_well)\n",
    "values_2=bootstraping(incomes_2[2],income_per_barrel,mean_income_per_well)\n",
    "values_3=bootstraping(incomes_3[2],income_per_barrel,mean_income_per_well)"
   ]
  },
  {
   "cell_type": "markdown",
   "metadata": {},
   "source": [
    "## Calculamos el beneficio promedio"
   ]
  },
  {
   "cell_type": "code",
   "execution_count": 100,
   "metadata": {},
   "outputs": [],
   "source": [
    "values_1=pd.Series(values_1)\n",
    "values_2=pd.Series(values_2)\n",
    "values_3=pd.Series(values_3)\n"
   ]
  },
  {
   "cell_type": "code",
   "execution_count": 101,
   "metadata": {},
   "outputs": [],
   "source": [
    "mean_incomes_1=values_1.mean()\n",
    "mean_incomes_2=values_2.mean()\n",
    "mean_incomes_3=values_3.mean()"
   ]
  },
  {
   "cell_type": "code",
   "execution_count": 102,
   "metadata": {},
   "outputs": [
    {
     "name": "stdout",
     "output_type": "stream",
     "text": [
      "Beneficio promedio región 1: 291652.28445080743\n",
      "Beneficio promedio región 2: 128621.46673866642\n",
      "Beneficio promedio región 3: 237807.6593239969\n"
     ]
    }
   ],
   "source": [
    "means=[mean_incomes_1,mean_incomes_2,mean_incomes_3]    \n",
    "for i in range(3):\n",
    "    print(f'Beneficio promedio región {i+1}: {means[i]}')"
   ]
  },
  {
   "cell_type": "markdown",
   "metadata": {},
   "source": [
    "Al aplicar la técnica de bootstraping, podemos ver que la región 1 sigue siendo la que tiene mejor beneficio promedio con 291 mil dolares, seguido por la región 3 y la región 2."
   ]
  },
  {
   "cell_type": "markdown",
   "metadata": {},
   "source": [
    "## Intervalo de confianza 95% de confianza"
   ]
  },
  {
   "cell_type": "code",
   "execution_count": 103,
   "metadata": {},
   "outputs": [],
   "source": [
    "def confiance(data):\n",
    "    lower=data.quantile(0.05)\n",
    "    upper=data.quantile(0.95)\n",
    "    return lower,upper"
   ]
  },
  {
   "cell_type": "code",
   "execution_count": 104,
   "metadata": {},
   "outputs": [],
   "source": [
    "interval_1=confiance(values_1)\n",
    "interval_2=confiance(values_2)\n",
    "interval_3=confiance(values_3)"
   ]
  },
  {
   "cell_type": "code",
   "execution_count": 105,
   "metadata": {},
   "outputs": [
    {
     "name": "stdout",
     "output_type": "stream",
     "text": [
      "Intervalo de confianza de la región 1: (279954.7312536711, 293311.74174726836)\n",
      "Intervalo de confianza de la región 2: (127827.3825688194, 128982.45291662638)\n",
      "Intervalo de confianza de la región 3: (228100.57336191577, 245566.55535308333)\n"
     ]
    }
   ],
   "source": [
    "confiance_list=[interval_1,interval_2,interval_3]    \n",
    "for i in range(3):\n",
    "    print(f'Intervalo de confianza de la región {i+1}: {confiance_list[i]}')"
   ]
  },
  {
   "cell_type": "markdown",
   "metadata": {},
   "source": [
    "Viendo los intervalos de confianza la región con los límites más generosos es la región 1 con ganancias entre 279 mil dolares y 293 mil dolares, seguido de la región 3 y la región 2. Como podemos ver ninguno de los intervalos tiene limite inferior negativo, por lo cual con ninguna región obtendriamos perdidas."
   ]
  },
  {
   "cell_type": "markdown",
   "metadata": {},
   "source": [
    "## Riesgo de pérdida"
   ]
  },
  {
   "cell_type": "code",
   "execution_count": 106,
   "metadata": {},
   "outputs": [],
   "source": [
    "def lose_risk(data):\n",
    "    looses_total=0\n",
    "    looses=data[data<0].sum()\n",
    "    looses_total+=looses\n",
    "    risk_prob=looses/data.shape[0]\n",
    "    return risk_prob    "
   ]
  },
  {
   "cell_type": "code",
   "execution_count": 107,
   "metadata": {},
   "outputs": [],
   "source": [
    "prob_1=lose_risk(values_1)\n",
    "prob_2=lose_risk(values_2)\n",
    "prob_3=lose_risk(values_3)"
   ]
  },
  {
   "cell_type": "code",
   "execution_count": 108,
   "metadata": {},
   "outputs": [
    {
     "name": "stdout",
     "output_type": "stream",
     "text": [
      "Riesgo de perdida de la región 1: 0.0\n",
      "Riesgo de perdida de la región 2: 0.0\n",
      "Riesgo de perdida de la región 3: 0.0\n"
     ]
    }
   ],
   "source": [
    "risk_list=[prob_1,prob_2,prob_3]    \n",
    "for i in range(3):\n",
    "    print(f'Riesgo de perdida de la región {i+1}: {risk_list[i]}')"
   ]
  },
  {
   "cell_type": "markdown",
   "metadata": {},
   "source": [
    "Efectivamente, podemos confirmar que no hay riesgo de perdida en ninguna de las 3 regiones, por lo cual cualquiera sería viable, sin embargo, la elección sería la región 1, debido a que tiene más rentabilidad que las otras 2, esto lo veiamos desde la revisión de las ganancias sin aplicar la técnica bootstraping, la región 1 siempre tuvo las ganancias más altas y el promedio de reservas más alto."
   ]
  },
  {
   "cell_type": "markdown",
   "metadata": {},
   "source": [
    "# Conclusiones"
   ]
  },
  {
   "cell_type": "markdown",
   "metadata": {},
   "source": [
    "1. La regresión lineal tiene el mismo resultado utilizando validación cruzada que sin utilizarla.\n",
    "\n",
    "2. La regresión lineal tuvo un resultado mejor que la media con EAM de 30 comparado con el de la media de 37 es un buen modelo.\n",
    "\n",
    "3. Al realizar el cálculo de los promedios de reservas de cada una de las regiones, la región con mejor promedio fue la región 3, sin embargo, al realizar el calculo de las ganancias netas con los 200 mejores pozos de cada región, nuestra perspectiva cambió y definimos la región 1 como la más rentable.\n",
    "\n",
    "4. Posteriormente se realizó el bootstraping para hacer un análisis de varias muestras de nuestras predicciones. Hallamos que la región con mejor beneficio neto promedio fue la región 1 con 291 mil ganancias, seguido por la región 3 y la región 2.\n",
    "\n",
    "5. Al análizar los intervalos de confianza, la región que tiene mejor rango de ganancias es la región 1 con el rango entre 279 y 293 mil dolares en beneficios.\n",
    "\n",
    "6. Por último, no encontramos muestras con perdidas o ganancias negativas, por lo tanto cualquiera de las regiones es viable, sin embargo, la más rentable es la región 1 la cual es la región escogida para optimizar las ganancias de OilGiant."
   ]
  }
 ],
 "metadata": {
  "kernelspec": {
   "display_name": "Python 3",
   "language": "python",
   "name": "python3"
  },
  "language_info": {
   "codemirror_mode": {
    "name": "ipython",
    "version": 3
   },
   "file_extension": ".py",
   "mimetype": "text/x-python",
   "name": "python",
   "nbconvert_exporter": "python",
   "pygments_lexer": "ipython3",
   "version": "3.12.0"
  }
 },
 "nbformat": 4,
 "nbformat_minor": 2
}
